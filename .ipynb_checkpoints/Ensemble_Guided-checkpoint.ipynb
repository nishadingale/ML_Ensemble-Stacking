{
 "cells": [
  {
   "cell_type": "markdown",
   "metadata": {
    "id": "06ElhD_-EVPH"
   },
   "source": [
    "# Task One "
   ]
  },
  {
   "cell_type": "markdown",
   "metadata": {
    "id": "hj-5ajN7GM9w"
   },
   "source": [
    "## Simple Techniques:\n",
    "\n",
    "* Max Voting\n",
    "* Averaging\n",
    "* Weighted Average"
   ]
  },
  {
   "cell_type": "markdown",
   "metadata": {
    "id": "ot6vXuLbHnNL"
   },
   "source": [
    "## Advanced Techniques:\n",
    "* Bagging (Bootstrap AGGregatING)\n",
    "* Boosting\n",
    "* Stacking"
   ]
  },
  {
   "cell_type": "code",
   "execution_count": null,
   "metadata": {
    "id": "1qtLluJGV7BX"
   },
   "outputs": [],
   "source": []
  },
  {
   "cell_type": "code",
   "execution_count": null,
   "metadata": {
    "id": "dmorWI8YV7KU"
   },
   "outputs": [],
   "source": []
  },
  {
   "cell_type": "code",
   "execution_count": null,
   "metadata": {
    "id": "-GP_3THoV7qt"
   },
   "outputs": [],
   "source": []
  },
  {
   "cell_type": "code",
   "execution_count": null,
   "metadata": {
    "id": "n9dviykNHmA0"
   },
   "outputs": [],
   "source": []
  },
  {
   "cell_type": "code",
   "execution_count": null,
   "metadata": {
    "id": "6W7VYd5KEN5p"
   },
   "outputs": [],
   "source": []
  },
  {
   "cell_type": "code",
   "execution_count": null,
   "metadata": {
    "id": "lVh1qYsDEZ6_"
   },
   "outputs": [],
   "source": []
  },
  {
   "cell_type": "code",
   "execution_count": null,
   "metadata": {
    "id": "cg2fvIiYEaJx"
   },
   "outputs": [],
   "source": []
  },
  {
   "cell_type": "markdown",
   "metadata": {
    "id": "kvCn0SX0EaYM"
   },
   "source": [
    "# Task Two"
   ]
  },
  {
   "cell_type": "markdown",
   "metadata": {
    "id": "KzCl6h0uJ4Bx"
   },
   "source": [
    "## Bagging algorithms:\n",
    "\n",
    "* Bagging meta-estimator\n",
    "* Random forest"
   ]
  },
  {
   "cell_type": "code",
   "execution_count": null,
   "metadata": {
    "id": "gUbhaEYYEhlP"
   },
   "outputs": [],
   "source": []
  },
  {
   "cell_type": "code",
   "execution_count": null,
   "metadata": {
    "id": "nCsyoMh6WDJf"
   },
   "outputs": [],
   "source": []
  },
  {
   "cell_type": "code",
   "execution_count": null,
   "metadata": {
    "id": "bvQXz9mcWDQz"
   },
   "outputs": [],
   "source": []
  },
  {
   "cell_type": "code",
   "execution_count": null,
   "metadata": {
    "id": "I6kHVWjSWDWs"
   },
   "outputs": [],
   "source": []
  },
  {
   "cell_type": "code",
   "execution_count": null,
   "metadata": {
    "id": "MqE5TYVwWD07"
   },
   "outputs": [],
   "source": []
  },
  {
   "cell_type": "markdown",
   "metadata": {
    "id": "u17U8P94Eh6_"
   },
   "source": [
    "# Task Three"
   ]
  },
  {
   "cell_type": "code",
   "execution_count": null,
   "metadata": {
    "id": "9G047y-QElOP"
   },
   "outputs": [],
   "source": []
  },
  {
   "cell_type": "code",
   "execution_count": null,
   "metadata": {
    "id": "cLssMOSMEldN"
   },
   "outputs": [],
   "source": []
  },
  {
   "cell_type": "code",
   "execution_count": null,
   "metadata": {
    "id": "9XJ6lnZlWI8R"
   },
   "outputs": [],
   "source": []
  },
  {
   "cell_type": "code",
   "execution_count": null,
   "metadata": {
    "id": "PVY8C7ggWJCJ"
   },
   "outputs": [],
   "source": []
  },
  {
   "cell_type": "code",
   "execution_count": null,
   "metadata": {
    "id": "lffuXnk1WJJB"
   },
   "outputs": [],
   "source": []
  },
  {
   "cell_type": "markdown",
   "metadata": {
    "id": "kNgnVQ55ElxC"
   },
   "source": [
    "# Task Four"
   ]
  },
  {
   "cell_type": "markdown",
   "metadata": {
    "id": "ghPAunuGJ-co"
   },
   "source": [
    "## Boosting algorithms:\n",
    "\n",
    "* AdaBoost : Adaptive boosting\n",
    "* GBM : Gradient Boosting\n",
    "* XGBM : Extreme Gradient Boosting\n",
    "* Light GBM\n",
    "* CatBoost"
   ]
  },
  {
   "cell_type": "code",
   "execution_count": null,
   "metadata": {
    "id": "fowN3WcnWHG_"
   },
   "outputs": [],
   "source": []
  },
  {
   "cell_type": "code",
   "execution_count": null,
   "metadata": {
    "id": "NP3Uoi7wWHMw"
   },
   "outputs": [],
   "source": []
  },
  {
   "cell_type": "code",
   "execution_count": null,
   "metadata": {
    "id": "FKJSSVbDWHSt"
   },
   "outputs": [],
   "source": []
  },
  {
   "cell_type": "code",
   "execution_count": null,
   "metadata": {
    "id": "W-BUochWWHb5"
   },
   "outputs": [],
   "source": []
  },
  {
   "cell_type": "code",
   "execution_count": null,
   "metadata": {
    "id": "oib0mIJnWHnT"
   },
   "outputs": [],
   "source": []
  },
  {
   "cell_type": "markdown",
   "metadata": {
    "id": "jR0v42d4EprJ"
   },
   "source": [
    "# Task Five"
   ]
  },
  {
   "cell_type": "markdown",
   "metadata": {
    "id": "VOswZoQYMWVN"
   },
   "source": [
    "## Ensemble Learning:\n",
    "* Homogeneous ensemble methods : Bagging , Boosting\n",
    "* Heterogeneous ensemble methods: Stacking"
   ]
  },
  {
   "cell_type": "code",
   "execution_count": null,
   "metadata": {
    "id": "9A7BIEAcWw-7"
   },
   "outputs": [],
   "source": []
  },
  {
   "cell_type": "code",
   "execution_count": null,
   "metadata": {
    "id": "fUWo6ZvcWM-b"
   },
   "outputs": [],
   "source": []
  },
  {
   "cell_type": "code",
   "execution_count": null,
   "metadata": {
    "id": "GgqXFLCFWNHq"
   },
   "outputs": [],
   "source": []
  },
  {
   "cell_type": "code",
   "execution_count": null,
   "metadata": {
    "id": "dIJDbp14WNMF"
   },
   "outputs": [],
   "source": []
  },
  {
   "cell_type": "code",
   "execution_count": null,
   "metadata": {
    "id": "6ndortr8WNVM"
   },
   "outputs": [],
   "source": []
  }
 ],
 "metadata": {
  "colab": {
   "collapsed_sections": [],
   "name": "Ensemble_Guided.ipynb",
   "provenance": []
  },
  "kernelspec": {
   "display_name": "Python 3 (ipykernel)",
   "language": "python",
   "name": "python3"
  },
  "language_info": {
   "codemirror_mode": {
    "name": "ipython",
    "version": 3
   },
   "file_extension": ".py",
   "mimetype": "text/x-python",
   "name": "python",
   "nbconvert_exporter": "python",
   "pygments_lexer": "ipython3",
   "version": "3.8.10"
  }
 },
 "nbformat": 4,
 "nbformat_minor": 1
}
